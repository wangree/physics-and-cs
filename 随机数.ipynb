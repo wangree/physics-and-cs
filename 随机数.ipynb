{
 "cells": [
  {
   "cell_type": "markdown",
   "metadata": {},
   "source": [
    "这是随机数产生的经典的方法：同余产生器,此代码结合python的生成器来写"
   ]
  },
  {
   "cell_type": "code",
   "execution_count": 20,
   "metadata": {},
   "outputs": [],
   "source": [
    "def random_num(x0,a,b,m,num):\n",
    "    for i in range(num):\n",
    "        if i==0:\n",
    "            temp=x0\n",
    "            yield x0/m\n",
    "        else:\n",
    "            temp=(b+a*temp)%m\n",
    "            yield temp/m"
   ]
  },
  {
   "cell_type": "code",
   "execution_count": 21,
   "metadata": {},
   "outputs": [
    {
     "data": {
      "text/plain": [
       "[0.0125,\n",
       " 0.275,\n",
       " 0.0,\n",
       " 0.05,\n",
       " 0.95,\n",
       " 0.15,\n",
       " 0.75,\n",
       " 0.55,\n",
       " 0.95,\n",
       " 0.15,\n",
       " 0.75,\n",
       " 0.55,\n",
       " 0.95,\n",
       " 0.15,\n",
       " 0.75,\n",
       " 0.55,\n",
       " 0.95,\n",
       " 0.15,\n",
       " 0.75,\n",
       " 0.55]"
      ]
     },
     "execution_count": 21,
     "metadata": {},
     "output_type": "execute_result"
    }
   ],
   "source": [
    "list(random_num(1,18,4,80,20))"
   ]
  },
  {
   "cell_type": "code",
   "execution_count": 24,
   "metadata": {},
   "outputs": [],
   "source": [
    "x0=3\n",
    "m=2^31-1\n",
    "a=7^5\n",
    "b=0\n",
    "num=20"
   ]
  },
  {
   "cell_type": "code",
   "execution_count": 25,
   "metadata": {},
   "outputs": [
    {
     "data": {
      "text/plain": [
       "[0.10714285714285714,\n",
       " 0.21428571428571427,\n",
       " 0.42857142857142855,\n",
       " 0.8571428571428571,\n",
       " 0.7142857142857143,\n",
       " 0.42857142857142855,\n",
       " 0.8571428571428571,\n",
       " 0.7142857142857143,\n",
       " 0.42857142857142855,\n",
       " 0.8571428571428571,\n",
       " 0.7142857142857143,\n",
       " 0.42857142857142855,\n",
       " 0.8571428571428571,\n",
       " 0.7142857142857143,\n",
       " 0.42857142857142855,\n",
       " 0.8571428571428571,\n",
       " 0.7142857142857143,\n",
       " 0.42857142857142855,\n",
       " 0.8571428571428571,\n",
       " 0.7142857142857143]"
      ]
     },
     "execution_count": 25,
     "metadata": {},
     "output_type": "execute_result"
    }
   ],
   "source": [
    "list(random_num(x0,a,b,m,num))"
   ]
  }
 ],
 "metadata": {
  "kernelspec": {
   "display_name": "Python 3",
   "language": "python",
   "name": "python3"
  },
  "language_info": {
   "codemirror_mode": {
    "name": "ipython",
    "version": 3
   },
   "file_extension": ".py",
   "mimetype": "text/x-python",
   "name": "python",
   "nbconvert_exporter": "python",
   "pygments_lexer": "ipython3",
   "version": "3.6.4"
  }
 },
 "nbformat": 4,
 "nbformat_minor": 2
}
